{
  "cells": [
    {
      "cell_type": "markdown",
      "metadata": {
        "id": "view-in-github",
        "colab_type": "text"
      },
      "source": [
        "<a href=\"https://colab.research.google.com/github/rewanth007/Plant_Disease_Detection/blob/main/Leaf_Disease_Detection.ipynb\" target=\"_parent\"><img src=\"https://colab.research.google.com/assets/colab-badge.svg\" alt=\"Open In Colab\"/></a>"
      ]
    },
    {
      "cell_type": "code",
      "execution_count": 8,
      "metadata": {
        "colab": {
          "base_uri": "https://localhost:8080/"
        },
        "id": "7OyScEQ08DOs",
        "outputId": "f8de30c1-cb89-40ee-eb0b-edf823a7274f"
      },
      "outputs": [
        {
          "output_type": "stream",
          "name": "stdout",
          "text": [
            "Mounted at /content/drive\n"
          ]
        }
      ],
      "source": [
        "from google.colab import drive\n",
        "drive.mount('/content/drive')"
      ]
    },
    {
      "cell_type": "code",
      "execution_count": null,
      "metadata": {
        "id": "Dd6rOYsf8RhS"
      },
      "outputs": [],
      "source": [
        "import os\n",
        "os.environ['KAGGLE_CONFIG_DIR'] = \"/content/drive/MyDrive/plant disease classification\"\n",
        "# /content/gdrive/My Drive/Kaggle is the path where kaggle.json is present in the Google Drive"
      ]
    },
    {
      "cell_type": "code",
      "execution_count": null,
      "metadata": {
        "colab": {
          "base_uri": "https://localhost:8080/"
        },
        "id": "RS6RWrMc8mTp",
        "outputId": "92539ff9-bbdd-47b0-f1ee-d811b1ac76b3"
      },
      "outputs": [
        {
          "name": "stdout",
          "output_type": "stream",
          "text": [
            "/content/drive/MyDrive/plant disease classification/rice_images\n"
          ]
        }
      ],
      "source": [
        "%cd /content/drive/MyDrive/plant disease classification/rice_images"
      ]
    },
    {
      "cell_type": "code",
      "execution_count": null,
      "metadata": {
        "colab": {
          "base_uri": "https://localhost:8080/"
        },
        "id": "I9Qr1sVS85qG",
        "outputId": "5a7bf993-1394-4a1c-fa31-39086bf5f38d"
      },
      "outputs": [
        {
          "name": "stdout",
          "output_type": "stream",
          "text": [
            "Downloading plantdisease.zip to /content/drive/MyDrive/plant disease classification\n",
            " 99% 653M/658M [00:27<00:00, 20.4MB/s]\n",
            "100% 658M/658M [00:27<00:00, 25.2MB/s]\n"
          ]
        }
      ],
      "source": [
        "!kaggle datasets download -d emmarex/plantdisease"
      ]
    },
    {
      "cell_type": "code",
      "execution_count": null,
      "metadata": {
        "id": "Ok8hn60N-AYd"
      },
      "outputs": [],
      "source": [
        "#unzipping the zip files and deleting the zip files\n",
        "!unzip \\*.zip  && rm *.zip"
      ]
    },
    {
      "cell_type": "markdown",
      "source": [
        "### Importing Requirements"
      ],
      "metadata": {
        "id": "trxd5AqgAbiA"
      }
    },
    {
      "cell_type": "code",
      "execution_count": 9,
      "metadata": {
        "id": "jvbY5HB67if7"
      },
      "outputs": [],
      "source": [
        "import numpy as np\n",
        "import pickle\n",
        "import cv2\n",
        "from os import listdir\n",
        "from sklearn.preprocessing import LabelBinarizer\n",
        "from keras.models import Sequential\n",
        "from keras.layers  import BatchNormalization\n",
        "from keras.layers.convolutional import Conv2D\n",
        "from keras.layers.convolutional import MaxPooling2D\n",
        "from keras.layers.core import Activation, Flatten, Dropout, Dense\n",
        "from keras import backend as K\n",
        "from keras.preprocessing.image import ImageDataGenerator\n",
        "from tensorflow.keras.optimizers import Adam \n",
        "from keras.preprocessing import image\n",
        "from keras.preprocessing.image import img_to_array\n",
        "from sklearn.preprocessing import MultiLabelBinarizer\n",
        "from sklearn.model_selection import train_test_split\n",
        "import matplotlib.pyplot as plt"
      ]
    },
    {
      "cell_type": "markdown",
      "source": [
        "### Defining Constants used throughout the training"
      ],
      "metadata": {
        "id": "Im3QQdozAkRh"
      }
    },
    {
      "cell_type": "code",
      "execution_count": 10,
      "metadata": {
        "collapsed": true,
        "id": "fXmHYJji7igB"
      },
      "outputs": [],
      "source": [
        "EPOCHS = 25\n",
        "INIT_LR = 1e-3\n",
        "BS = 32\n",
        "default_image_size = tuple((256, 256))\n",
        "image_size = 0\n",
        "directory_root = '/content/drive/MyDrive/plant disease classification'\n",
        "width=256\n",
        "height=256\n",
        "depth=3"
      ]
    },
    {
      "cell_type": "markdown",
      "source": [
        "### Function to resize image to required dimensions"
      ],
      "metadata": {
        "id": "QttPJ-chAoTh"
      }
    },
    {
      "cell_type": "code",
      "execution_count": 11,
      "metadata": {
        "collapsed": true,
        "id": "QQ7pUD_H7igB"
      },
      "outputs": [],
      "source": [
        "def convert_image_to_array(image_dir):\n",
        "    try:\n",
        "        image = cv2.imread(image_dir)\n",
        "        if image is not None :\n",
        "            image = cv2.resize(image, default_image_size)   \n",
        "            return img_to_array(image)\n",
        "        else :\n",
        "            return np.array([])\n",
        "    except Exception as e:\n",
        "        print(f\"Error : {e}\")\n",
        "        return None"
      ]
    },
    {
      "cell_type": "markdown",
      "source": [
        "### making list of images and convering them as **np arrays**"
      ],
      "metadata": {
        "id": "rl5-OlU2AtG6"
      }
    },
    {
      "cell_type": "code",
      "execution_count": 12,
      "metadata": {
        "colab": {
          "base_uri": "https://localhost:8080/"
        },
        "collapsed": true,
        "id": "b9Z2eobl7igC",
        "outputId": "128e9f72-1b91-49af-a785-2cea5c5eec9f"
      },
      "outputs": [
        {
          "output_type": "stream",
          "name": "stdout",
          "text": [
            "[INFO] Loading images ...\n",
            "[INFO] Processing _Healthy ...\n",
            "[INFO] Processing _Hispa ...\n",
            "[INFO] Processing _BrownSpot ...\n",
            "[INFO] Processing _LeafBlast ...\n",
            "[INFO] Processing kaggle.json ...\n",
            "Error : [Errno 20] Not a directory: '/content/drive/MyDrive/plant disease classification/zz/kaggle.json/'\n"
          ]
        }
      ],
      "source": [
        "image_list, label_list = [], []\n",
        "try:\n",
        "    print(\"[INFO] Loading images ...\")\n",
        "    root_dir = listdir(directory_root)\n",
        "    for directory in root_dir :\n",
        "        # remove .DS_Store from list\n",
        "        if directory == \".DS_Store\" :\n",
        "            root_dir.remove(directory)\n",
        "\n",
        "    for plant_folder in root_dir :\n",
        "        plant_disease_folder_list = listdir(f\"{directory_root}/{plant_folder}\")\n",
        "        \n",
        "        for disease_folder in plant_disease_folder_list :\n",
        "            # remove .DS_Store from list\n",
        "            if disease_folder == \".DS_Store\" :\n",
        "                plant_disease_folder_list.remove(disease_folder)\n",
        "\n",
        "        for plant_disease_folder in plant_disease_folder_list:\n",
        "            print(f\"[INFO] Processing {plant_disease_folder} ...\")\n",
        "            plant_disease_image_list = listdir(f\"{directory_root}/{plant_folder}/{plant_disease_folder}/\")\n",
        "                \n",
        "            for single_plant_disease_image in plant_disease_image_list :\n",
        "                if single_plant_disease_image == \".DS_Store\" :\n",
        "                    plant_disease_image_list.remove(single_plant_disease_image)\n",
        "\n",
        "            for image in plant_disease_image_list[:200]:\n",
        "                image_directory = f\"{directory_root}/{plant_folder}/{plant_disease_folder}/{image}\"\n",
        "                if image_directory.endswith(\".jpg\") == True or image_directory.endswith(\".JPG\") == True:\n",
        "                    image_list.append(convert_image_to_array(image_directory))\n",
        "                    label_list.append(plant_disease_folder)\n",
        "    print(\"[INFO] Image loading completed\")  \n",
        "except Exception as e:\n",
        "    print(f\"Error : {e}\")"
      ]
    },
    {
      "cell_type": "code",
      "execution_count": 6,
      "metadata": {
        "collapsed": true,
        "id": "2QtSDSjm7igC"
      },
      "outputs": [],
      "source": [
        "image_size = len(image_list)"
      ]
    },
    {
      "cell_type": "markdown",
      "source": [
        "### extractiing **labels** from the images"
      ],
      "metadata": {
        "id": "CHyVOESFAxkO"
      }
    },
    {
      "cell_type": "code",
      "execution_count": 13,
      "metadata": {
        "collapsed": true,
        "id": "AU4864Fl7igD"
      },
      "outputs": [],
      "source": [
        "label_binarizer = LabelBinarizer()\n",
        "image_labels = label_binarizer.fit_transform(label_list)\n",
        "pickle.dump(label_binarizer,open('label_transform.pkl', 'wb'))\n",
        "n_classes = len(label_binarizer.classes_)"
      ]
    },
    {
      "cell_type": "code",
      "execution_count": 14,
      "metadata": {
        "colab": {
          "base_uri": "https://localhost:8080/"
        },
        "collapsed": true,
        "id": "dUU8ij8X7igD",
        "outputId": "015299d7-c3cf-45d1-84de-b0ed3a89ad24"
      },
      "outputs": [
        {
          "output_type": "stream",
          "name": "stdout",
          "text": [
            "['_BrownSpot' '_Healthy' '_Hispa' '_LeafBlast']\n"
          ]
        }
      ],
      "source": [
        "print(label_binarizer.classes_)"
      ]
    },
    {
      "cell_type": "code",
      "execution_count": 15,
      "metadata": {
        "collapsed": true,
        "id": "q3KtM3ur7igE"
      },
      "outputs": [],
      "source": [
        "np_image_list = np.array(image_list, dtype=np.float16) / 225.0"
      ]
    },
    {
      "cell_type": "markdown",
      "source": [
        "### Splitting Data"
      ],
      "metadata": {
        "id": "jSdM8-1UA0AS"
      }
    },
    {
      "cell_type": "code",
      "execution_count": 16,
      "metadata": {
        "colab": {
          "base_uri": "https://localhost:8080/"
        },
        "collapsed": true,
        "id": "r8MyqWkf7igE",
        "outputId": "9dca159d-1bb1-4266-f7ae-72e974fbe686"
      },
      "outputs": [
        {
          "output_type": "stream",
          "name": "stdout",
          "text": [
            "[INFO] Spliting data to train, test\n"
          ]
        }
      ],
      "source": [
        "print(\"[INFO] Spliting data to train, test\")\n",
        "x_train, x_test, y_train, y_test = train_test_split(np_image_list, image_labels, test_size=0.2, random_state = 42) "
      ]
    },
    {
      "cell_type": "code",
      "execution_count": 17,
      "metadata": {
        "collapsed": true,
        "id": "Ad46JsEG7igF"
      },
      "outputs": [],
      "source": [
        "aug = ImageDataGenerator(\n",
        "    rotation_range=25, width_shift_range=0.1,\n",
        "    height_shift_range=0.1, shear_range=0.2, \n",
        "    zoom_range=0.2,horizontal_flip=True, \n",
        "    fill_mode=\"nearest\")"
      ]
    },
    {
      "cell_type": "markdown",
      "source": [
        "### Making Model"
      ],
      "metadata": {
        "id": "5-au9othA3gh"
      }
    },
    {
      "cell_type": "code",
      "execution_count": 18,
      "metadata": {
        "collapsed": true,
        "id": "G13GCaqL7igF"
      },
      "outputs": [],
      "source": [
        "model = Sequential()\n",
        "inputShape = (height, width, depth)\n",
        "chanDim = -1\n",
        "if K.image_data_format() == \"channels_first\":\n",
        "    inputShape = (depth, height, width)\n",
        "    chanDim = 1\n",
        "model.add(Conv2D(32, (3, 3), padding=\"same\",input_shape=inputShape))\n",
        "model.add(Activation(\"relu\"))\n",
        "model.add(BatchNormalization(axis=chanDim))\n",
        "model.add(MaxPooling2D(pool_size=(3, 3)))\n",
        "model.add(Dropout(0.25))\n",
        "model.add(Conv2D(64, (3, 3), padding=\"same\"))\n",
        "model.add(Activation(\"relu\"))\n",
        "model.add(BatchNormalization(axis=chanDim))\n",
        "model.add(Conv2D(64, (3, 3), padding=\"same\"))\n",
        "model.add(Activation(\"relu\"))\n",
        "model.add(BatchNormalization(axis=chanDim))\n",
        "model.add(MaxPooling2D(pool_size=(2, 2)))\n",
        "model.add(Dropout(0.25))\n",
        "model.add(Conv2D(128, (3, 3), padding=\"same\"))\n",
        "model.add(Activation(\"relu\"))\n",
        "model.add(BatchNormalization(axis=chanDim))\n",
        "model.add(Conv2D(128, (3, 3), padding=\"same\"))\n",
        "model.add(Activation(\"relu\"))\n",
        "model.add(BatchNormalization(axis=chanDim))\n",
        "model.add(MaxPooling2D(pool_size=(2, 2)))\n",
        "model.add(Dropout(0.25))\n",
        "model.add(Flatten())\n",
        "model.add(Dense(1024))\n",
        "model.add(Activation(\"relu\"))\n",
        "model.add(BatchNormalization())\n",
        "model.add(Dropout(0.2)) # 0.5\n",
        "model.add(Dense(n_classes))\n",
        "model.add(Activation(\"softmax\"))"
      ]
    },
    {
      "cell_type": "code",
      "execution_count": 19,
      "metadata": {
        "colab": {
          "base_uri": "https://localhost:8080/"
        },
        "id": "M3ChnNMi7igF",
        "outputId": "e6124e7f-3933-40f1-b909-2827e879fc64"
      },
      "outputs": [
        {
          "output_type": "stream",
          "name": "stdout",
          "text": [
            "Model: \"sequential\"\n",
            "_________________________________________________________________\n",
            " Layer (type)                Output Shape              Param #   \n",
            "=================================================================\n",
            " conv2d (Conv2D)             (None, 256, 256, 32)      896       \n",
            "                                                                 \n",
            " activation (Activation)     (None, 256, 256, 32)      0         \n",
            "                                                                 \n",
            " batch_normalization (BatchN  (None, 256, 256, 32)     128       \n",
            " ormalization)                                                   \n",
            "                                                                 \n",
            " max_pooling2d (MaxPooling2D  (None, 85, 85, 32)       0         \n",
            " )                                                               \n",
            "                                                                 \n",
            " dropout (Dropout)           (None, 85, 85, 32)        0         \n",
            "                                                                 \n",
            " conv2d_1 (Conv2D)           (None, 85, 85, 64)        18496     \n",
            "                                                                 \n",
            " activation_1 (Activation)   (None, 85, 85, 64)        0         \n",
            "                                                                 \n",
            " batch_normalization_1 (Batc  (None, 85, 85, 64)       256       \n",
            " hNormalization)                                                 \n",
            "                                                                 \n",
            " conv2d_2 (Conv2D)           (None, 85, 85, 64)        36928     \n",
            "                                                                 \n",
            " activation_2 (Activation)   (None, 85, 85, 64)        0         \n",
            "                                                                 \n",
            " batch_normalization_2 (Batc  (None, 85, 85, 64)       256       \n",
            " hNormalization)                                                 \n",
            "                                                                 \n",
            " max_pooling2d_1 (MaxPooling  (None, 42, 42, 64)       0         \n",
            " 2D)                                                             \n",
            "                                                                 \n",
            " dropout_1 (Dropout)         (None, 42, 42, 64)        0         \n",
            "                                                                 \n",
            " conv2d_3 (Conv2D)           (None, 42, 42, 128)       73856     \n",
            "                                                                 \n",
            " activation_3 (Activation)   (None, 42, 42, 128)       0         \n",
            "                                                                 \n",
            " batch_normalization_3 (Batc  (None, 42, 42, 128)      512       \n",
            " hNormalization)                                                 \n",
            "                                                                 \n",
            " conv2d_4 (Conv2D)           (None, 42, 42, 128)       147584    \n",
            "                                                                 \n",
            " activation_4 (Activation)   (None, 42, 42, 128)       0         \n",
            "                                                                 \n",
            " batch_normalization_4 (Batc  (None, 42, 42, 128)      512       \n",
            " hNormalization)                                                 \n",
            "                                                                 \n",
            " max_pooling2d_2 (MaxPooling  (None, 21, 21, 128)      0         \n",
            " 2D)                                                             \n",
            "                                                                 \n",
            " dropout_2 (Dropout)         (None, 21, 21, 128)       0         \n",
            "                                                                 \n",
            " flatten (Flatten)           (None, 56448)             0         \n",
            "                                                                 \n",
            " dense (Dense)               (None, 1024)              57803776  \n",
            "                                                                 \n",
            " activation_5 (Activation)   (None, 1024)              0         \n",
            "                                                                 \n",
            " batch_normalization_5 (Batc  (None, 1024)             4096      \n",
            " hNormalization)                                                 \n",
            "                                                                 \n",
            " dropout_3 (Dropout)         (None, 1024)              0         \n",
            "                                                                 \n",
            " dense_1 (Dense)             (None, 4)                 4100      \n",
            "                                                                 \n",
            " activation_6 (Activation)   (None, 4)                 0         \n",
            "                                                                 \n",
            "=================================================================\n",
            "Total params: 58,091,396\n",
            "Trainable params: 58,088,516\n",
            "Non-trainable params: 2,880\n",
            "_________________________________________________________________\n"
          ]
        }
      ],
      "source": [
        "model.summary()"
      ]
    },
    {
      "cell_type": "markdown",
      "source": [
        "### using Adam optmizer"
      ],
      "metadata": {
        "id": "61DMWzD6A7I_"
      }
    },
    {
      "cell_type": "code",
      "execution_count": 20,
      "metadata": {
        "colab": {
          "base_uri": "https://localhost:8080/"
        },
        "collapsed": true,
        "id": "vV5-YKV67igG",
        "outputId": "3233b874-386e-44c8-cbd2-3db0ae858863"
      },
      "outputs": [
        {
          "output_type": "stream",
          "name": "stdout",
          "text": [
            "[INFO] training network...\n"
          ]
        },
        {
          "output_type": "stream",
          "name": "stderr",
          "text": [
            "/usr/local/lib/python3.7/dist-packages/keras/optimizer_v2/adam.py:105: UserWarning: The `lr` argument is deprecated, use `learning_rate` instead.\n",
            "  super(Adam, self).__init__(name, **kwargs)\n"
          ]
        }
      ],
      "source": [
        "opt = Adam(lr=INIT_LR, decay=INIT_LR / EPOCHS)\n",
        "# distribution\n",
        "model.compile(loss=\"binary_crossentropy\", optimizer=opt,metrics=[\"accuracy\"])\n",
        "# train the network\n",
        "print(\"[INFO] training network...\")"
      ]
    },
    {
      "cell_type": "markdown",
      "source": [
        "### Training the model"
      ],
      "metadata": {
        "id": "6NvyG7CSA9Is"
      }
    },
    {
      "cell_type": "code",
      "execution_count": 21,
      "metadata": {
        "colab": {
          "base_uri": "https://localhost:8080/"
        },
        "id": "IXw4FWtk7igG",
        "outputId": "5906693d-513c-42b5-ef1b-109fa835b555"
      },
      "outputs": [
        {
          "output_type": "stream",
          "name": "stderr",
          "text": [
            "/usr/local/lib/python3.7/dist-packages/ipykernel_launcher.py:5: UserWarning: `Model.fit_generator` is deprecated and will be removed in a future version. Please use `Model.fit`, which supports generators.\n",
            "  \"\"\"\n"
          ]
        },
        {
          "output_type": "stream",
          "name": "stdout",
          "text": [
            "Epoch 1/25\n",
            "20/20 [==============================] - 24s 505ms/step - loss: 0.7635 - accuracy: 0.5594 - val_loss: 0.7064 - val_accuracy: 0.2313\n",
            "Epoch 2/25\n",
            "20/20 [==============================] - 9s 439ms/step - loss: 0.4919 - accuracy: 0.6328 - val_loss: 0.8461 - val_accuracy: 0.3000\n",
            "Epoch 3/25\n",
            "20/20 [==============================] - 9s 434ms/step - loss: 0.4148 - accuracy: 0.6562 - val_loss: 1.7712 - val_accuracy: 0.2688\n",
            "Epoch 4/25\n",
            "20/20 [==============================] - 9s 434ms/step - loss: 0.3500 - accuracy: 0.7094 - val_loss: 2.2236 - val_accuracy: 0.2688\n",
            "Epoch 5/25\n",
            "20/20 [==============================] - 9s 432ms/step - loss: 0.3407 - accuracy: 0.7219 - val_loss: 1.9934 - val_accuracy: 0.2688\n",
            "Epoch 6/25\n",
            "20/20 [==============================] - 9s 433ms/step - loss: 0.3441 - accuracy: 0.6938 - val_loss: 1.8048 - val_accuracy: 0.2688\n",
            "Epoch 7/25\n",
            "20/20 [==============================] - 9s 432ms/step - loss: 0.3431 - accuracy: 0.6969 - val_loss: 1.5517 - val_accuracy: 0.2688\n",
            "Epoch 8/25\n",
            "20/20 [==============================] - 9s 431ms/step - loss: 0.3140 - accuracy: 0.7203 - val_loss: 1.3226 - val_accuracy: 0.2937\n",
            "Epoch 9/25\n",
            "20/20 [==============================] - 9s 434ms/step - loss: 0.3190 - accuracy: 0.7141 - val_loss: 1.8841 - val_accuracy: 0.2688\n",
            "Epoch 10/25\n",
            "20/20 [==============================] - 9s 435ms/step - loss: 0.3052 - accuracy: 0.7422 - val_loss: 1.2941 - val_accuracy: 0.1875\n",
            "Epoch 11/25\n",
            "20/20 [==============================] - 9s 442ms/step - loss: 0.3006 - accuracy: 0.7219 - val_loss: 1.5618 - val_accuracy: 0.3187\n",
            "Epoch 12/25\n",
            "20/20 [==============================] - 9s 433ms/step - loss: 0.2907 - accuracy: 0.7531 - val_loss: 1.7064 - val_accuracy: 0.3125\n",
            "Epoch 13/25\n",
            "20/20 [==============================] - 10s 519ms/step - loss: 0.2887 - accuracy: 0.7297 - val_loss: 1.4537 - val_accuracy: 0.3063\n",
            "Epoch 14/25\n",
            "20/20 [==============================] - 9s 431ms/step - loss: 0.2906 - accuracy: 0.7594 - val_loss: 1.1998 - val_accuracy: 0.3375\n",
            "Epoch 15/25\n",
            "20/20 [==============================] - 9s 434ms/step - loss: 0.2822 - accuracy: 0.7531 - val_loss: 1.6580 - val_accuracy: 0.2688\n",
            "Epoch 16/25\n",
            "20/20 [==============================] - 9s 431ms/step - loss: 0.2676 - accuracy: 0.7641 - val_loss: 1.3172 - val_accuracy: 0.4000\n",
            "Epoch 17/25\n",
            "20/20 [==============================] - 9s 432ms/step - loss: 0.2684 - accuracy: 0.7734 - val_loss: 1.4247 - val_accuracy: 0.2750\n",
            "Epoch 18/25\n",
            "20/20 [==============================] - 9s 436ms/step - loss: 0.2878 - accuracy: 0.7547 - val_loss: 1.4119 - val_accuracy: 0.2625\n",
            "Epoch 19/25\n",
            "20/20 [==============================] - 9s 442ms/step - loss: 0.2874 - accuracy: 0.7609 - val_loss: 1.0749 - val_accuracy: 0.2812\n",
            "Epoch 20/25\n",
            "20/20 [==============================] - 11s 522ms/step - loss: 0.2664 - accuracy: 0.7625 - val_loss: 1.2797 - val_accuracy: 0.2438\n",
            "Epoch 21/25\n",
            "20/20 [==============================] - 9s 437ms/step - loss: 0.2359 - accuracy: 0.7937 - val_loss: 0.7960 - val_accuracy: 0.4062\n",
            "Epoch 22/25\n",
            "20/20 [==============================] - 9s 440ms/step - loss: 0.2725 - accuracy: 0.7453 - val_loss: 1.0685 - val_accuracy: 0.4062\n",
            "Epoch 23/25\n",
            "20/20 [==============================] - 9s 427ms/step - loss: 0.2748 - accuracy: 0.7625 - val_loss: 1.3231 - val_accuracy: 0.3375\n",
            "Epoch 24/25\n",
            "20/20 [==============================] - 9s 429ms/step - loss: 0.2423 - accuracy: 0.8016 - val_loss: 2.2881 - val_accuracy: 0.2812\n",
            "Epoch 25/25\n",
            "20/20 [==============================] - 9s 430ms/step - loss: 0.2537 - accuracy: 0.7844 - val_loss: 0.8700 - val_accuracy: 0.4563\n"
          ]
        }
      ],
      "source": [
        "history = model.fit_generator(\n",
        "    aug.flow(x_train, y_train, batch_size=BS),\n",
        "    validation_data=(x_test, y_test),\n",
        "    steps_per_epoch=len(x_train) // BS,\n",
        "    epochs=EPOCHS, verbose=1\n",
        "    )"
      ]
    },
    {
      "cell_type": "code",
      "execution_count": 22,
      "metadata": {
        "colab": {
          "base_uri": "https://localhost:8080/",
          "height": 545
        },
        "id": "8dje25Ao7igG",
        "outputId": "e5d402b4-2ef8-4615-ec21-b36ade49e614"
      },
      "outputs": [
        {
          "output_type": "display_data",
          "data": {
            "text/plain": [
              "<Figure size 432x288 with 1 Axes>"
            ],
            "image/png": "[encoded data removed]"
          },
          "metadata": {
            "needs_background": "light"
          }
        },
        {
          "output_type": "display_data",
          "data": {
            "text/plain": [
              "<Figure size 432x288 with 1 Axes>"
            ],
            "image/png": "[encoded data removed]"
          },
          "metadata": {
            "needs_background": "light"
          }
        }
      ],
      "source": [
        "acc = history.history['accuracy']\n",
        "val_acc = history.history['val_accuracy']\n",
        "loss = history.history['loss']\n",
        "val_loss = history.history['val_loss']\n",
        "epochs = range(1, len(acc) + 1)\n",
        "#Train and validation accuracy\n",
        "plt.plot(epochs, acc, 'b', label='Training accurarcy')\n",
        "plt.plot(epochs, val_acc, 'r', label='Validation accurarcy')\n",
        "plt.title('Training and Validation accurarcy')\n",
        "plt.legend()\n",
        "\n",
        "plt.figure()\n",
        "#Train and validation loss\n",
        "plt.plot(epochs, loss, 'b', label='Training loss')\n",
        "plt.plot(epochs, val_loss, 'r', label='Validation loss')\n",
        "plt.title('Training and Validation loss')\n",
        "plt.legend()\n",
        "plt.show()"
      ]
    },
    {
      "cell_type": "code",
      "execution_count": 23,
      "metadata": {
        "colab": {
          "base_uri": "https://localhost:8080/"
        },
        "collapsed": true,
        "id": "QGDz_uyu7igG",
        "outputId": "aafb7785-216b-41e0-fdcf-42c26f8da484"
      },
      "outputs": [
        {
          "output_type": "stream",
          "name": "stdout",
          "text": [
            "[INFO] Calculating model accuracy\n",
            "5/5 [==============================] - 0s 38ms/step - loss: 0.8700 - accuracy: 0.4563\n",
            "Test Accuracy: 45.625001192092896\n"
          ]
        }
      ],
      "source": [
        "print(\"[INFO] Calculating model accuracy\")\n",
        "scores = model.evaluate(x_test, y_test)\n",
        "print(f\"Test Accuracy: {scores[1]*100}\")"
      ]
    },
    {
      "cell_type": "code",
      "execution_count": 24,
      "metadata": {
        "colab": {
          "base_uri": "https://localhost:8080/"
        },
        "collapsed": true,
        "id": "Hqj3Rt2u7igH",
        "outputId": "b83066e4-8605-402e-8b88-f44cc4c06d95"
      },
      "outputs": [
        {
          "output_type": "stream",
          "name": "stdout",
          "text": [
            "[INFO] Saving model...\n"
          ]
        }
      ],
      "source": [
        "print(\"[INFO] Saving model...\")\n",
        "pickle.dump(model,open('cnn_model.pkl', 'wb'))"
      ]
    },
    {
      "cell_type": "markdown",
      "source": [
        "### using pickle module to save the trained model"
      ],
      "metadata": {
        "id": "7R5habkCBC2H"
      }
    },
    {
      "cell_type": "code",
      "execution_count": 25,
      "metadata": {
        "collapsed": true,
        "id": "ytKCIL6s7igH"
      },
      "outputs": [],
      "source": [
        "loaded_model = pickle.load(open('cnn_model.pkl', 'rb'))"
      ]
    }
  ],
  "metadata": {
    "colab": {
      "collapsed_sections": [],
      "provenance": [],
      "include_colab_link": true
    },
    "kernelspec": {
      "display_name": "Python 3 (ipykernel)",
      "language": "python",
      "name": "python3"
    },
    "language_info": {
      "codemirror_mode": {
        "name": "ipython",
        "version": 3
      },
      "file_extension": ".py",
      "mimetype": "text/x-python",
      "name": "python",
      "nbconvert_exporter": "python",
      "pygments_lexer": "ipython3",
      "version": "3.9.12"
    },
    "accelerator": "GPU",
    "gpuClass": "standard"
  },
  "nbformat": 4,
  "nbformat_minor": 0
}